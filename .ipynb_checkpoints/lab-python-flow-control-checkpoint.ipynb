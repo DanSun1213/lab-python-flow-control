{
 "cells": [
  {
   "cell_type": "markdown",
   "id": "d3bfc191-8885-42ee-b0a0-bbab867c6f9f",
   "metadata": {
    "tags": []
   },
   "source": [
    "# Lab | Flow Control"
   ]
  },
  {
   "cell_type": "code",
   "execution_count": null,
   "id": "148487de-33f0-47cd-a3ba-22106d723c70",
   "metadata": {},
   "outputs": [],
   "source": []
  },
  {
   "cell_type": "markdown",
   "id": "3851fcd1-cf98-4653-9c89-e003b7ec9400",
   "metadata": {},
   "source": [
    "## Exercise: Managing Customer Orders Optimized\n",
    "\n",
    "In the last lab, you were starting an online store that sells various products. To ensure smooth operations, you developed a program that manages customer orders and inventory.\n",
    "\n",
    "You did so without using flow control. Let's go a step further and improve this code.\n",
    "\n",
    "Follow the steps below to complete the exercise:\n",
    "\n",
    "1. Look at your code from the lab data structures, and improve repeated code with loops.\n",
    "\n",
    "2. Instead of asking the user to input the name of three products that a customer wants to order, do the following:\n",
    "    \n",
    "    a. Prompt the user to enter the name of a product that a customer wants to order.\n",
    "    \n",
    "    b. Add the product name to the \"customer_orders\" set.\n",
    "    \n",
    "    c. Ask the user if they want to add another product (yes/no).\n",
    "    \n",
    "    d. Continue the loop until the user does not want to add another product.\n",
    "\n",
    "3. Instead of updating the inventory by subtracting 1 from the quantity of each product, only do it for  the products that were ordered (those in \"customer_orders\")."
   ]
  },
  {
   "cell_type": "code",
   "execution_count": 38,
   "id": "894ae497-1de5-4c02-bc9c-4912cfe5c009",
   "metadata": {},
   "outputs": [
    {
     "name": "stdin",
     "output_type": "stream",
     "text": [
      "We have t-shirt, mug, hat, book, keychain. Please tell me what you want to order:  ha\n"
     ]
    },
    {
     "name": "stdout",
     "output_type": "stream",
     "text": [
      "'ha' is not a valid product. Please only enter: t-shirt, mug, hat, book, keychain.\n"
     ]
    },
    {
     "name": "stdin",
     "output_type": "stream",
     "text": [
      "We have t-shirt, mug, hat, book, keychain. Please tell me what you want to order:  mug\n",
      "Do you want to add another product? (yes/no):  yes\n",
      "We have t-shirt, mug, hat, book, keychain. Please tell me what you want to order:  hah\n"
     ]
    },
    {
     "name": "stdout",
     "output_type": "stream",
     "text": [
      "'hah' is not a valid product. Please only enter: t-shirt, mug, hat, book, keychain.\n"
     ]
    },
    {
     "name": "stdin",
     "output_type": "stream",
     "text": [
      "We have t-shirt, mug, hat, book, keychain. Please tell me what you want to order:  book\n",
      "Do you want to add another product? (yes/no):  no\n"
     ]
    },
    {
     "name": "stdout",
     "output_type": "stream",
     "text": [
      "Thank you for your order. Here is your order list: {'book', 'mug'}\n"
     ]
    }
   ],
   "source": [
    "# Create an empty set called customer_orders.\n",
    "customer_orders = set()\n",
    "products = [\"t-shirt\", \"mug\", \"hat\", \"book\", \"keychain\"]\n",
    "\n",
    "while True:\n",
    "    # Ask the user to input the name of a product that a customer wants to order.\n",
    "    order_list = input(\"We have t-shirt, mug, hat, book, keychain. Please tell me what you want to order: \")\n",
    "\n",
    "    if order_list in products:\n",
    "        customer_orders.add(order_list)\n",
    "    else:\n",
    "        print(f\"'{order_list}' is not a valid product. Please only enter: t-shirt, mug, hat, book, keychain.\")\n",
    "        continue\n",
    "        \n",
    "    \n",
    "    new_order = input(\"Do you want to add another product? (yes/no): \").strip().lower()\n",
    "    if new_order == 'no':\n",
    "        break\n",
    "    elif new_order != 'yes':\n",
    "        print(\"Please only enter 'yes' or 'no'.\")\n",
    "        continue\n",
    "\n",
    "print(f'Thank you for your order. Here is your order list: {customer_orders}')"
   ]
  },
  {
   "cell_type": "code",
   "execution_count": null,
   "id": "4b322ffb-c9d7-4fb2-9cd4-6fe62a0e4481",
   "metadata": {},
   "outputs": [],
   "source": [
    "# Create an empty set called customer_orders.\n",
    "customer_orders = set()\n",
    "products = [\"t-shirt\", \"mug\", \"hat\", \"book\", \"keychain\"]\n",
    "\n",
    "# Use a for loop to allow multiple product entries\n",
    "for _ in range(3):  # Adjust the range to the number of maximum products you want to allow in one session\n",
    "    # Ask the user to input the name of a product that a customer wants to order.\n",
    "    order_list = input(\"We have t-shirt, mug, hat, book, keychain. Please tell me what you want to order: \")\n",
    "\n",
    "    if order_list in products:\n",
    "        customer_orders.add(order_list)\n",
    "    else:\n",
    "        print(f\"'{order_list}' is not a valid product. Please only enter: t-shirt, mug, hat, book, keychain.\")\n",
    "        continue\n",
    "    \n",
    "    new_order = input(\"Do you want to add another product? (yes/no): \").strip().lower()\n",
    "    if new_order == 'no':\n",
    "        break\n",
    "    elif new_order != 'yes':\n",
    "        print(\"Please only enter 'yes' or 'no'.\")\n",
    "        break\n",
    "\n",
    "print(f'Thank you for your order. Here is your order list: {customer_orders}')"
   ]
  }
 ],
 "metadata": {
  "kernelspec": {
   "display_name": "Python 3 (ipykernel)",
   "language": "python",
   "name": "python3"
  },
  "language_info": {
   "codemirror_mode": {
    "name": "ipython",
    "version": 3
   },
   "file_extension": ".py",
   "mimetype": "text/x-python",
   "name": "python",
   "nbconvert_exporter": "python",
   "pygments_lexer": "ipython3",
   "version": "3.11.7"
  }
 },
 "nbformat": 4,
 "nbformat_minor": 5
}
